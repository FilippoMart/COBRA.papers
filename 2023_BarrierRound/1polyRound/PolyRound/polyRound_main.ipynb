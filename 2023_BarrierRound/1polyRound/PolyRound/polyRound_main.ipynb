{
 "cells": [
  {
   "cell_type": "markdown",
   "id": "a88c2209",
   "metadata": {},
   "source": [
    "In this file, we round 11 models tested in PolyRound paper and additional 12 models from bio and LP, which we will transform into matrix files later."
   ]
  },
  {
   "cell_type": "code",
   "execution_count": 1,
   "id": "5f1ae308",
   "metadata": {},
   "outputs": [],
   "source": [
    "import os\n",
    "from timeit import default_timer as timer\n",
    "from PolyRound.api import PolyRoundApi\n",
    "from PolyRound.static_classes.lp_utils import ChebyshevFinder\n",
    "from PolyRound.settings import PolyRoundSettings\n",
    "from PolyRound.mutable_classes.polytope import Polytope\n",
    "from pathlib import Path\n",
    "from os import listdir\n",
    "from os.path import isfile, join\n",
    "import scipy.io\n",
    "import pandas as pd\n",
    "import mat73"
   ]
  },
  {
   "cell_type": "code",
   "execution_count": null,
   "id": "35a6b457",
   "metadata": {},
   "outputs": [],
   "source": [
    "settings = PolyRoundSettings()\n",
    "models_path = os.path.join(\"PolyRound\", \"models\")\n",
    "models_path2 = os.path.join(\"PolyRound\", \"modelsMat\")\n",
    "\n",
    "onlyfiles = [f for f in listdir(models_path) if isfile(join(models_path, f)) and f[0]=='p']\n",
    "onlyfolders = [f for f in listdir(models_path2) if f[0]=='p']\n",
    "\n",
    "onlyfiles.sort()\n",
    "onlyfolders.sort()\n",
    "\n",
    "rTimes = [0]*(len(onlyfiles)+len(onlyfolders))"
   ]
  },
  {
   "cell_type": "code",
   "execution_count": null,
   "id": "951a8b97",
   "metadata": {},
   "outputs": [],
   "source": [
    "for model in onlyfiles:\n",
    "    #print(model, \" started\")\n",
    "    model_path = os.path.join(models_path, model)\n",
    "    polytope = PolyRoundApi.sbml_to_polytope(model_path) # load a model\n",
    "    \n",
    "    start = timer()\n",
    "    one_step_rounded_polytope = PolyRoundApi.simplify_transform_and_round(polytope) # round it\n",
    "    end = timer()\n",
    "    \n",
    "    if len(one_step_rounded_polytope.A.columns) < 1100:\n",
    "        out_csv_dir = os.path.join(\"PolyRound\", 'output', model)\n",
    "        Path(out_csv_dir).mkdir(parents=True, exist_ok=True)\n",
    "        PolyRoundApi.polytope_to_csvs(one_step_rounded_polytope, out_csv_dir)\n",
    "    print(model, \"done in\", end-start, \"seconds\")\n",
    "    rTimes[int(model[1:3])-1] = end-start"
   ]
  },
  {
   "cell_type": "code",
   "execution_count": null,
   "id": "976ef615",
   "metadata": {},
   "outputs": [],
   "source": [
    "for model in onlyfolders[1:2]:\n",
    "    modelFolder_path = os.path.join(models_path2, model)\n",
    "    Apath = join(modelFolder_path, model + '_A.mat')\n",
    "    bpath = join(modelFolder_path, model + '_b.mat')\n",
    "    Spath = join(modelFolder_path, model + '_S.mat')\n",
    "    hpath = join(modelFolder_path, model + '_h.mat')\n",
    "    ind = 0\n",
    "    \n",
    "    if os.path.isfile(Apath):\n",
    "        M = mat73.loadmat(Apath)\n",
    "        A = pd.DataFrame(M['A'])\n",
    "    if os.path.isfile(bpath):\n",
    "        M = scipy.io.loadmat(bpath)\n",
    "        b = pd.Series(M['b'].flatten())\n",
    "    if os.path.isfile(Spath):\n",
    "        M = scipy.io.loadmat(Spath)\n",
    "        S = pd.DataFrame(M['S'])\n",
    "    if os.path.isfile(hpath):\n",
    "        M = scipy.io.loadmat(hpath)\n",
    "        h = pd.Series(M['h'].flatten())\n",
    "        ind = 1\n",
    "    \n",
    "    if ind == 1:\n",
    "        polytope = Polytope(A, b, S, h)\n",
    "    else:\n",
    "        polytope = Polytope(A, b, S)\n",
    "    \n",
    "    start = timer()\n",
    "    one_step_rounded_polytope = PolyRoundApi.simplify_transform_and_round(polytope) # round it\n",
    "    end = timer()\n",
    "    \n",
    "    if len(one_step_rounded_polytope.A.columns) < 1100:\n",
    "        out_csv_dir = os.path.join(\"PolyRound\", 'output', model)\n",
    "        Path(out_csv_dir).mkdir(parents=True, exist_ok=True)\n",
    "        PolyRoundApi.polytope_to_csvs(one_step_rounded_polytope, out_csv_dir)\n",
    "    print(model, \"done in\", end-start, \"seconds\")\n",
    "    rTimes[int(model[1:3])-1] = end-start"
   ]
  },
  {
   "cell_type": "code",
   "execution_count": null,
   "id": "65fb4845",
   "metadata": {},
   "outputs": [],
   "source": [
    "# Save rounding time\n",
    "rTimes = pd.DataFrame(rTimes)\n",
    "rTimes.to_csv(os.path.join(\"PolyRound\", 'output', 'roundTimes.csv')) "
   ]
  },
  {
   "cell_type": "code",
   "execution_count": null,
   "id": "530ed93b",
   "metadata": {},
   "outputs": [],
   "source": []
  },
  {
   "cell_type": "code",
   "execution_count": null,
   "id": "c52a8a1d",
   "metadata": {},
   "outputs": [],
   "source": []
  }
 ],
 "metadata": {
  "kernelspec": {
   "display_name": "Python 3 (ipykernel)",
   "language": "python",
   "name": "python3"
  },
  "language_info": {
   "codemirror_mode": {
    "name": "ipython",
    "version": 3
   },
   "file_extension": ".py",
   "mimetype": "text/x-python",
   "name": "python",
   "nbconvert_exporter": "python",
   "pygments_lexer": "ipython3",
   "version": "3.8.9"
  }
 },
 "nbformat": 4,
 "nbformat_minor": 5
}
