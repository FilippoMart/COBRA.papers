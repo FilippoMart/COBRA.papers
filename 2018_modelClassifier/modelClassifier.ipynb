{
 "cells": [
  {
   "cell_type": "markdown",
   "metadata": {},
   "source": [
    "# Machine learning microbe classifier in Julia\n",
    "\n",
    "This model classifier uses machine learning techniques to classifiy automatically microbe models."
   ]
  },
  {
   "cell_type": "markdown",
   "metadata": {},
   "source": [
    "## Import external and machine learning packages"
   ]
  },
  {
   "cell_type": "code",
   "execution_count": null,
   "metadata": {},
   "outputs": [],
   "source": [
    "Pkg.add(\"PyCall\")\n",
    "Pkg.add(\"DataFrames\")\n",
    "Pkg.add(\"CSV\")\n",
    "Pkg.add(\"ScikitLearn\")\n",
    "Pkg.add(\"PyPlot\")"
   ]
  },
  {
   "cell_type": "code",
   "execution_count": null,
   "metadata": {},
   "outputs": [],
   "source": [
    "Pkg.update()"
   ]
  },
  {
   "cell_type": "code",
   "execution_count": null,
   "metadata": {},
   "outputs": [],
   "source": [
    "# import Julia packages\n",
    "using DataFrames, CSV\n",
    "\n",
    "# import ScikitLearn packages\n",
    "using ScikitLearn, PyCall\n",
    "using ScikitLearn.CrossValidation: train_test_split\n",
    "import ScikitLearn: CrossValidation \n",
    "@sk_import model_selection: cross_val_score  \n",
    "@sk_import preprocessing: (LabelEncoder, StandardScaler)\n",
    "@sk_import metrics: accuracy_score \n",
    "@sk_import linear_model: LogisticRegression \n",
    "@sk_import ensemble: (RandomForestClassifier, AdaBoostClassifier)\n",
    "@sk_import tree: DecisionTreeClassifier \n",
    "@sk_import datasets: (make_moons, make_circles, make_classification)\n",
    "@sk_import neighbors: KNeighborsClassifier\n",
    "@sk_import svm: SVC\n",
    "@sk_import naive_bayes: GaussianNB\n",
    "@sk_import discriminant_analysis: (LinearDiscriminantAnalysis, QuadraticDiscriminantAnalysis)\n",
    "@sk_import metrics: confusion_matrix;\n",
    "@pyimport matplotlib.colors as mplc"
   ]
  },
  {
   "cell_type": "markdown",
   "metadata": {},
   "source": [
    "## Load the numerical characteristics"
   ]
  },
  {
   "cell_type": "code",
   "execution_count": null,
   "metadata": {},
   "outputs": [],
   "source": [
    "using Conda\n",
    "Conda.add(\"matplotlib\")"
   ]
  },
  {
   "cell_type": "code",
   "execution_count": null,
   "metadata": {},
   "outputs": [],
   "source": [
    "# load the data and the phylum labels\n",
    "data = CSV.read(\"Supplementary_Table_S5.csv\")\n",
    "labels = data[:phylum]\n",
    "labelsArr = data[:phylum]\n",
    "\n",
    "head(data, 10)"
   ]
  },
  {
   "cell_type": "markdown",
   "metadata": {},
   "source": [
    "## Curate and prepare the input data"
   ]
  },
  {
   "cell_type": "code",
   "execution_count": null,
   "metadata": {},
   "outputs": [],
   "source": [
    "# define the names of the categories\n",
    "namesVect = names(data)\n",
    "\n",
    "# create 'Others' category\n",
    "\n",
    "# convert all labels to an array\n",
    "labelsArr = convert(Array, labelsArr) \n",
    "\n",
    "# combine certain phyla to a special category\n",
    "labelsArr = recode(labelsArr, \"Thaumarchaeota\"  => \"Other\",\n",
    "                              \"Crenarchaeota\"   => \"Other\",\n",
    "                              \"Verrucomicrobia\" => \"Other\",\n",
    "                              \"Spirochaetes\"    => \"Other\",\n",
    "                              \"Cyanobacteria\"   => \"Other\",\n",
    "                              \"Euryarchaeota\"   => \"Other\",\n",
    "                              \"Synergistetes\"   => \"Other\",\n",
    "                              \"Tenericutes\"     => \"Other\",\n",
    "                              \"Fusobacteria\"    => \"Other\",\n",
    "                              \"Planctomycetes\"  => \"Other\");\n",
    "\n",
    "#print out the various categories\n",
    "levels(labelsArr)\n",
    "#by(labelsArr, _:)"
   ]
  },
  {
   "cell_type": "code",
   "execution_count": null,
   "metadata": {},
   "outputs": [],
   "source": [
    "function selectAndCurateDate(data, numDataSet, topoDataSet, geneDataSet)\n",
    "    # select certain categories\n",
    "    # and normalize the data\n",
    "    #=\n",
    "    Note:\n",
    "\n",
    "        Omitted categories are:\n",
    "         1: name\n",
    "         7: compSparsityRatio\n",
    "         9: colDensityRel\n",
    "        15: precisionEstimate\n",
    "        16: estLevel\n",
    "        42: phylum\n",
    "        43: year\n",
    "        44: gammain (topoDataSet)\n",
    "        45: gammaout (topoDataSet)\n",
    "        46: jaccard (geneDataSet)\n",
    "    =#\n",
    "\n",
    "    categories = []\n",
    "\n",
    "    if numDataSet\n",
    "        categories = [categories; [2:6...]; 8; [10:14...]; [17:41...]]\n",
    "    end\n",
    "    if topoDataSet\n",
    "        categories = [categories; [44:45...]]\n",
    "    end\n",
    "    if geneDataSet\n",
    "        categories = [categories; 46]\n",
    "    end\n",
    "\n",
    "    println(namesVect[categories])\n",
    "\n",
    "    # select only the categories that should be used\n",
    "    labelencoder = LabelEncoder() \n",
    "\n",
    "    for col in categories # 1:size(categories,1) #categories \n",
    "        data[col] = fit_transform!(labelencoder, data[col]) \n",
    "    end\n",
    "    return data, categories\n",
    "end"
   ]
  },
  {
   "cell_type": "markdown",
   "metadata": {},
   "source": [
    "## Define the classification model"
   ]
  },
  {
   "cell_type": "code",
   "execution_count": null,
   "metadata": {},
   "outputs": [],
   "source": [
    "# define a classification model\n",
    "\n",
    "function classification_model(model, data, predictors; testSize=0.33, randomState=100, cvK=10, printLevel=1) \n",
    "     y = convert(Array, labelsArr) \n",
    "     X = convert(Array, data[predictors]) \n",
    "     # split into train and test\n",
    "     X_train, X_test, y_train, y_test = train_test_split(X, y, test_size=testSize, random_state=randomState)\n",
    "    \n",
    "     # fit the model\n",
    "     fit!(model, X_train, y_train)\n",
    "\n",
    "     # make predictions on training set\n",
    "     predictions = predict(model, X_train)\n",
    "    \n",
    "     # print accuracy \n",
    "     accuracy = accuracy_score(predictions, y_train)\n",
    "    \n",
    "     if printLevel > 0\n",
    "         println(\"\\nTraining score (accuracy): $(round(accuracy*100, 2))%\")\n",
    "     end\n",
    "\n",
    "     # cvK-fold cross validation \n",
    "     cross_score = cross_val_score(model, X_train, y_train, cv=cvK, scoring=\"accuracy\")\n",
    "    \n",
    "     # print cross_val_score \n",
    "     meanCS = mean(cross_score)\n",
    "     if printLevel > 0\n",
    "         println(\"Cross validation score: $(round(meanCS*100, 2))%\") \n",
    "     end\n",
    "\n",
    "     # return predictions \n",
    "     y_predictions_test = predict(model, X_test)\n",
    "     testScore = accuracy_score(y_predictions_test, y_test)\n",
    "\n",
    "     y_pred = predict(model, X);\n",
    "    \n",
    "     if printLevel > 0\n",
    "         println(\"Test verification score: $(round(testScore*100, 2))%\") \n",
    "     end\n",
    "    \n",
    "     return model, accuracy, meanCS, testScore, y_pred, y\n",
    "end"
   ]
  },
  {
   "attachments": {},
   "cell_type": "markdown",
   "metadata": {},
   "source": [
    "## Determine the appropriate estimator\n",
    "\n",
    "Source: http://scikit-learn.org/stable/tutorial/machine_learning_map/index.html"
   ]
  },
  {
   "cell_type": "code",
   "execution_count": null,
   "metadata": {
    "scrolled": true
   },
   "outputs": [],
   "source": [
    "namesClf = [\"Nearest Neighbors\", \"Linear SVM\", \"RBF SVM\", \"Decision Tree\",\n",
    "         \"Random Forest\", \"AdaBoost\", \"Naive Bayes\", \"Linear Discriminant Analysis\",\n",
    "         \"Logistic Regression\"]\n",
    "\n",
    "classifiers = [\n",
    "    KNeighborsClassifier(5),\n",
    "    SVC(kernel=\"linear\", C=0.025),\n",
    "    SVC(gamma=5, C=1),\n",
    "    DecisionTreeClassifier(max_depth=5),\n",
    "    RandomForestClassifier(max_depth=5, n_estimators=10, max_features=1),\n",
    "    AdaBoostClassifier(),\n",
    "    GaussianNB(),\n",
    "    LinearDiscriminantAnalysis(),\n",
    "    LogisticRegression()];"
   ]
  },
  {
   "cell_type": "markdown",
   "metadata": {},
   "source": [
    "**Conclusion on the most appropriate estimator**\n",
    "\n",
    "According to the estimator decision graph, it is the **KNeighbors classifier** that is the most appropriate estimator to build a ML microbe classifier. The question is to determine the most appropriate number of neighbors and determine the optimal parameters for the classifier."
   ]
  },
  {
   "cell_type": "markdown",
   "metadata": {},
   "source": [
    "## Tuning the KNeighbors classifier"
   ]
  },
  {
   "cell_type": "code",
   "execution_count": null,
   "metadata": {},
   "outputs": [],
   "source": [
    "function chooseBestClassifier(categories, data)\n",
    "    maxCS = 0\n",
    "    maxAcc = 0\n",
    "    maxTS = 0\n",
    "    maxTestSize = 0.15\n",
    "    maxY = 0\n",
    "    maxYpred = 0\n",
    "    # set the maximum testSize\n",
    "    maxK = 2\n",
    "    maxcvKi = 5\n",
    "    for cvKi = maxcvKi:5:15\n",
    "        for testSizej = maxTestSize:0.05:0.9\n",
    "            for k = maxK:15\n",
    "                model = KNeighborsClassifier(k)\n",
    "                (model, accuracy, cross_score, test_score, y_pred, y) = classification_model(model, data, namesVect[categories], \n",
    "                                                                                testSize=testSizej, randomState=200, \n",
    "                                                                                cvK=cvKi, \n",
    "                                                                                printLevel=0)\n",
    "                if test_score > maxTS\n",
    "                    maxModel = model\n",
    "                    maxY = y\n",
    "                    maxYpred = y_pred\n",
    "                    maxCS = cross_score\n",
    "                    maxAcc = accuracy\n",
    "                    maxTS = test_score\n",
    "                    maxTestSize = testSizej\n",
    "                    maxK = k\n",
    "                    maxcvKi = cvKi\n",
    "                end\n",
    "            end\n",
    "        end\n",
    "    end\n",
    "    println(\" The best kNN estimator is: \")\n",
    "    println(\"  > Accuracy: $(round(maxAcc*100, 2))\")\n",
    "    println(\"  > Test score: $(round(maxTS*100, 2))\")\n",
    "    println(\"  > Cross-validation score: $(round(maxCS*100, 2))\")\n",
    "    println(\"  > Number of neighbors N: $maxK\")\n",
    "    println(\"  > Test size P = $maxTestSize\")\n",
    "    println(\"  > Cross-validation k: $maxcvKi-fold\")\n",
    "\n",
    "    cnf_matrix = confusion_matrix(maxY, maxYpred)\n",
    "    return cnf_matrix    \n",
    "end"
   ]
  },
  {
   "cell_type": "code",
   "execution_count": null,
   "metadata": {},
   "outputs": [],
   "source": [
    "using PyPlot\n",
    "\"\"\"\n",
    "This function prints and plots the confusion matrix.\n",
    "Normalization can be applied by setting `normalize=True`.\n",
    "\"\"\"\n",
    "function safeProp(num, den)\n",
    "    if den == 0.\n",
    "        prop = 0\n",
    "    else\n",
    "        prop = num / den\n",
    "    end\n",
    "    return prop\n",
    "end\n",
    "    \n",
    "function plot_confusion_matrix(cm, classes;title_top=\"Confusion matrix\")\n",
    "    m, n = size(cm)\n",
    "    extended_cm = zeros(m+1, n+1)\n",
    "    extended_cm[1:m, 1:n] = cm\n",
    "    imshow(extended_cm, interpolation=\"nearest\", cmap=ColorMap(\"Blues\"))\n",
    "    title(title_top)\n",
    "    colorbar()\n",
    "    tick_marks = 0:size(classes,1)-1\n",
    "    xticks(tick_marks, classes, rotation=45)\n",
    "    yticks(tick_marks, classes)\n",
    "\n",
    "    thresh = maximum(cm) / 2.\n",
    "    for i in 1:size(cm, 1)\n",
    "        for j in 1:size(cm, 2)\n",
    "            if cm[i, j] > thresh \n",
    "                color=\"white\"\n",
    "            else\n",
    "                color=\"black\"\n",
    "            end\n",
    "            text(j-1, i-1, cm[i, j],\n",
    "                     horizontalalignment=\"center\",\n",
    "                     color=color)\n",
    "\n",
    "            prop = safeProp(cm[i, j], sum(cm))\n",
    "            text(j-1, i-0.75, @sprintf(\"%.1f\", prop*100)*\"%\",\n",
    "                     horizontalalignment=\"center\",\n",
    "                     color=color)\n",
    "        end\n",
    "    end\n",
    "    for i in 1:size(cm, 1)\n",
    "        prop = safeProp(cm[i,i], sum(cm[i, :]))    \n",
    "        text(size(cm, 2), i-1 , @sprintf(\"%.1f\",prop*100)*\"%\",\n",
    "                     horizontalalignment=\"center\",\n",
    "                     color=\"green\")\n",
    "        prop = safeProp((sum(cm[i, :])-cm[i,i]), sum(cm[i, :]))\n",
    "        text(size(cm, 2), i-0.75, @sprintf(\"%.1f\", prop*100)*\"%\",\n",
    "                     horizontalalignment=\"center\",\n",
    "                     color=\"red\")     \n",
    "    end\n",
    "    for j in 1:size(cm, 2)\n",
    "            prop = safeProp(cm[j,j], sum(cm[:, j]))\n",
    "        text(j-1, size(cm, 1) , @sprintf(\"%.1f\",prop*100)*\"%\",\n",
    "                     horizontalalignment=\"center\",\n",
    "                     color=\"green\")\n",
    "            prop = safeProp((sum(cm[:, j])-cm[j,j]), sum(cm[:, j]))\n",
    "        text(j-1, size(cm, 1)+0.25, @sprintf(\"%.1f\", prop*100)*\"%\",\n",
    "                     horizontalalignment=\"center\",\n",
    "                     color=\"red\")\n",
    "    end\n",
    "        prop = safeProp(sum(diag(cm)), sum(cm))\n",
    "    text(size(cm, 2), size(cm, 1) , @sprintf(\"%.1f\",prop*100)*\"%\",\n",
    "                     horizontalalignment=\"center\",\n",
    "                     color=\"green\")\n",
    "        prop = safeProp((sum(cm)-sum(diag(cm))), sum(cm))\n",
    "    text(size(cm, 2), size(cm, 1)+0.25, @sprintf(\"%.1f\", prop*100)*\"%\",\n",
    "                     horizontalalignment=\"center\",\n",
    "                     color=\"red\")\n",
    "    tight_layout()\n",
    "    ylabel(\"True label\")\n",
    "    xlabel(\"Predicted label\")\n",
    "end"
   ]
  },
  {
   "cell_type": "code",
   "execution_count": null,
   "metadata": {},
   "outputs": [],
   "source": [
    "function run(data, numDataSet, topoDataSet, geneDataSet)\n",
    "    data_norm, selectedCategories = selectAndCurateDate(data, numDataSet, topoDataSet, geneDataSet)\n",
    "    cnf_matrix = chooseBestClassifier(selectedCategories, data_norm)\n",
    "                \n",
    "    PyPlot.close_figs()\n",
    "    plot_confusion_matrix(cnf_matrix, levels(labelsArr));\n",
    "                \n",
    "    filename=\"confusionMatrix\"\n",
    "    if numDataSet\n",
    "        filename = filename * \"_numDataSet\"\n",
    "    end\n",
    "    if topoDataSet\n",
    "        filename = filename * \"_topoDataSet\"\n",
    "    end\n",
    "    if geneDataSet\n",
    "        filename = filename * \"_geneDataSet\"\n",
    "    end\n",
    "    filename = filename * \".pdf\"\n",
    "    savefig(filename)\n",
    "end"
   ]
  },
  {
   "cell_type": "code",
   "execution_count": null,
   "metadata": {},
   "outputs": [],
   "source": [
    "for numDataSet in [true, false]\n",
    "    for topoDataSet in [true, false]\n",
    "         for geneDataSet in [true, false]\n",
    "            if numDataSet || topoDataSet || geneDataSet\n",
    "                run(data, numDataSet, topoDataSet, geneDataSet)\n",
    "            end\n",
    "        end\n",
    "    end\n",
    "end"
   ]
  },
  {
   "cell_type": "markdown",
   "metadata": {},
   "source": [
    "## References: \n",
    "\n",
    "- https://www.analyticsvidhya.com/blog/2017/10/comprehensive-tutorial-learn-data-science-julia-from-scratch/\n",
    "- https://kevinzakka.github.io/2016/07/13/k-nearest-neighbor/#more-on-k\n",
    "- https://towardsdatascience.com/train-test-split-and-cross-validation-in-python-80b61beca4b6"
   ]
  }
 ],
 "metadata": {
  "kernelspec": {
   "display_name": "Julia 0.6.4",
   "language": "julia",
   "name": "julia-0.6"
  },
  "language_info": {
   "file_extension": ".jl",
   "mimetype": "application/julia",
   "name": "julia",
   "version": "0.6.4"
  }
 },
 "nbformat": 4,
 "nbformat_minor": 2
}
